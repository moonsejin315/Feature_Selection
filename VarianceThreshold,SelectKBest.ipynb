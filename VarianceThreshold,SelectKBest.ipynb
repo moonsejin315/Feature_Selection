{
 "cells": [
  {
   "cell_type": "markdown",
   "id": "a9ff75d3",
   "metadata": {},
   "source": [
    "## sklearn.feature_selection\n",
    "### 정의 : 머신러닝 모델의 성능을 향상시키기 위해 데이터의 특징(feature)을 선택하거나 제거하는 다양한 방법을 제공한다. 특징 선택은 데이터 전처리 과정에서 중요한 단계로, 불필요하거나 중복된 특징을 제거함으로써 모델의 과적합(overfitting)을 방지하고 학습 속도를 향상시킬 수 있다.\n",
    "    ** 주요 클래스 및 함수 **\n",
    "    - SelectKBest : 필터 방법 중 단일 변수 통계 테스트를 사용하여 특징을 선택.\n",
    "    - VarianceThreshold : 분산을 기준으로 특징을 제거하는 간단한 필터 방법."
   ]
  },
  {
   "cell_type": "markdown",
   "id": "a85e625b",
   "metadata": {},
   "source": [
    "## VarianceThreshold\n",
    "\n",
    "### 정의 : scikit-learn에서 제공하는 필터 방법 중 하나로, 데이터셋에서 분산이 일정 수준 이하인 특징을 제거하는 간단한 특징 선택 방법이다. \"분산이 낮다는 것은 해당 특징이 거의 변화하지 않으며, 모델 학습에 큰 기여를 하지 않을 가능성이 높음의 의미한다.\"\n",
    "\n",
    "### 사용 이유\n",
    "- 노이즈 제거 : 변화가 거의 없는 특징은 모델에 노이즈를 추가할 수 있다.\n",
    "- 차원 축소 : 불필요한 특징을 제거하여 데이터의 차원을 줄인다.\n",
    "- 계산 효율성 향상 : 특징 수가 줄어들면 학습 및 예측 속도가 빨라진다.\n",
    "\n",
    "### 주요 파라미터\n",
    "- threshold : 제거할 분산의 기준값을 설정한다. 기본값은 0으로, 분산이 0인 특징만 제거한다."
   ]
  },
  {
   "cell_type": "markdown",
   "id": "18e85e5a",
   "metadata": {},
   "source": [
    "## SelectKBest\n",
    "\n",
    "### 정의 : scikit-learn의 필터 방법 중 하나로, 단일 변수 통계 테스트를 사용하여 상위 k개의 특징을 선택한다. \"각 특징이 타깃 변수와 얼마나 관련성 있는지를 평가하여, 가장 관련성이 높은 특징들을 선택한다.\"\n",
    "\n",
    "### 사용 이유\n",
    "- 관련성이 높은 특징 선택 : 타깃 변수와 가장 관련이 높은 특징을 선택하여 모델의 예측 성능을 향상시킨다.\n",
    "- 차원 축소 : 특징 수를 줄여 모델의 복잡성을 낮추고, 학습 속도를 개선한다.\n",
    "- 해석 용이성 : 중요한 특징만을 남기면 모델의 해석이 쉬워진다.\n",
    "\n",
    "### 주요 파라미터\n",
    "- socre_func : 특징의 점수를 계산하는 함수. 예를들어, 분류 문제에서 f_classif(ANOVA F-검정), 회귀 문제에서는 f_regression 등을 사용한다.\n",
    "- k : 선택할 특징의 수를 지정한다.기본 값은 10개이다."
   ]
  },
  {
   "cell_type": "markdown",
   "id": "0c263cfc",
   "metadata": {},
   "source": [
    "### 분산에 대한 수학적 정의\n",
    "- 분산은 데이터 값들이 평균에서 얼마나 떨어져 있는지를 나타내는 지표입니다.\n",
    "- 분산이 작다는 것은 : \n",
    "    - 값들이 평균값과 거의 차이가 없음을 의미한다.\n",
    "    - 즉, 피처의 값들이 거의 변하지 않고 비슷한 값이 반복된다.\n",
    "    - 이러한 피처는 데이터에 중요한 정보를 제공하지 못할 가능성이 크다.\n",
    "    - 예측에 도움이 되지 않으며, 모델 성능에 부정적인 영향을 미칠 수 있다.\n",
    "        - 모든 값이 비슷하면, 모델이 학습할 유용한 패턴이 없으므로 예측하기 어렵다.\n",
    "        - 불필요한 피처는 과적합을 유발할 수 있다.\n",
    "- 분산이 크다는 것은 : \n",
    "    - 값들이 평균값에서 많이 떨어져 있어 피처가 더 다양하다는 의미이다.\n",
    "    - 하지만, 분산이 높다고 해서 반드시 좋은 피처인 것은 아니다.\n",
    "    - 피처의 중요도를 평가할 때 분산은 고려할 우선순위가 될 수 있지만 도메인 지식과 함께 평가하는 것이 중요하다.\n",
    "    \n",
    "### 임계값(Threshold)\n",
    "- 기본적으로 분산이 0인 피처는 제거하는 것이 일반적이다.\n",
    "- 분산의 임계값은 0.1 ~ 0.5 사이가 적절할 수 있지만, 이는 데이터의 도메인에 따라 달라질 수 있다.\n",
    "    - 비율 기준으로 임계값을 설정하거나,\n",
    "    - 각 피처의 분산을 직접 계산하여 탐색한 후 실험적으로 제거하거나 추가하여 모델 성능을 테스트 할 수 있다."
   ]
  },
  {
   "cell_type": "code",
   "execution_count": 1,
   "id": "b66ca849",
   "metadata": {},
   "outputs": [],
   "source": [
    "#분산에 대한 예시코드\n",
    "from sklearn.feature_selection import VarianceThreshold\n",
    "\n",
    "X = [[0,2,0,3],\n",
    "    [0,1,2,3],\n",
    "    [0,1,1,5]]\n",
    "\n",
    "#분산의 임계값을 0.2로 설정\n",
    "selector = VarianceThreshold(threshold=0.2)\n",
    "X_high_variance = selector.fit_transform(X)"
   ]
  },
  {
   "cell_type": "code",
   "execution_count": 2,
   "id": "b673b624",
   "metadata": {},
   "outputs": [
    {
     "data": {
      "text/plain": [
       "array([[2, 0, 3],\n",
       "       [1, 2, 3],\n",
       "       [1, 1, 5]])"
      ]
     },
     "execution_count": 2,
     "metadata": {},
     "output_type": "execute_result"
    }
   ],
   "source": [
    "X_high_variance"
   ]
  },
  {
   "cell_type": "code",
   "execution_count": 3,
   "id": "b98bb3a3",
   "metadata": {},
   "outputs": [],
   "source": [
    "from sklearn.feature_selection import SelectKBest, chi2\n",
    "import numpy as np"
   ]
  },
  {
   "cell_type": "code",
   "execution_count": 4,
   "id": "1d9d14d8",
   "metadata": {},
   "outputs": [],
   "source": [
    "X = np.array([[1,2,3],\n",
    "             [4,5,6],\n",
    "             [7,8,9],\n",
    "             [10,11,12]])\n",
    "y = np.array([0,1,0,1]) #타겟값 범주형(생존률)"
   ]
  },
  {
   "cell_type": "code",
   "execution_count": 5,
   "id": "6afe8318",
   "metadata": {},
   "outputs": [],
   "source": [
    "#상위 2개 피처 선택한다.\n",
    "#SelectKBest의 매개변수\n",
    "\n",
    "#사용할 통계적 테스트 함수로, 어떤 방법으로 각 특성의 점수를 계산할지 결정합니다.\n",
    "# ----> chi2을 사용한다.\n",
    "#k : 선택할 특성의 개수를 지정\n",
    "selector = SelectKBest(chi2, k = 2)"
   ]
  },
  {
   "cell_type": "code",
   "execution_count": 6,
   "id": "db60388d",
   "metadata": {},
   "outputs": [],
   "source": [
    "X_new_sel = selector.fit_transform(X,y)"
   ]
  },
  {
   "cell_type": "code",
   "execution_count": 7,
   "id": "a26c30c3",
   "metadata": {},
   "outputs": [
    {
     "data": {
      "text/plain": [
       "array([[ 1,  2],\n",
       "       [ 4,  5],\n",
       "       [ 7,  8],\n",
       "       [10, 11]])"
      ]
     },
     "execution_count": 7,
     "metadata": {},
     "output_type": "execute_result"
    }
   ],
   "source": [
    "X_new_sel"
   ]
  },
  {
   "cell_type": "markdown",
   "id": "b01713ab",
   "metadata": {},
   "source": [
    "## 타이타닉 데이터로 feature_selection"
   ]
  },
  {
   "cell_type": "code",
   "execution_count": 8,
   "id": "010a973f",
   "metadata": {},
   "outputs": [],
   "source": [
    "import seaborn as sns\n",
    "import pandas as pd\n",
    "from sklearn.preprocessing import OneHotEncoder\n",
    "import matplotlib.pyplot as plt"
   ]
  },
  {
   "cell_type": "code",
   "execution_count": 9,
   "id": "68f04c71",
   "metadata": {},
   "outputs": [],
   "source": [
    "tt = sns.load_dataset('titanic')"
   ]
  },
  {
   "cell_type": "code",
   "execution_count": 10,
   "id": "47ee9e6a",
   "metadata": {
    "scrolled": true
   },
   "outputs": [
    {
     "name": "stderr",
     "output_type": "stream",
     "text": [
      "/var/folders/gy/ylcsy3wj18b_80z186rb1dcw0000gn/T/ipykernel_27398/1647315501.py:2: FutureWarning: A value is trying to be set on a copy of a DataFrame or Series through chained assignment using an inplace method.\n",
      "The behavior will change in pandas 3.0. This inplace method will never work because the intermediate object on which we are setting values always behaves as a copy.\n",
      "\n",
      "For example, when doing 'df[col].method(value, inplace=True)', try using 'df.method({col: value}, inplace=True)' or df[col] = df[col].method(value) instead, to perform the operation inplace on the original object.\n",
      "\n",
      "\n",
      "  tt['age'].fillna(tt['age'].median(), inplace = True)\n",
      "/var/folders/gy/ylcsy3wj18b_80z186rb1dcw0000gn/T/ipykernel_27398/1647315501.py:3: FutureWarning: A value is trying to be set on a copy of a DataFrame or Series through chained assignment using an inplace method.\n",
      "The behavior will change in pandas 3.0. This inplace method will never work because the intermediate object on which we are setting values always behaves as a copy.\n",
      "\n",
      "For example, when doing 'df[col].method(value, inplace=True)', try using 'df.method({col: value}, inplace=True)' or df[col] = df[col].method(value) instead, to perform the operation inplace on the original object.\n",
      "\n",
      "\n",
      "  tt['embark_town'].fillna(tt['embark_town'].mode()[0], inplace = True)\n",
      "/var/folders/gy/ylcsy3wj18b_80z186rb1dcw0000gn/T/ipykernel_27398/1647315501.py:4: FutureWarning: A value is trying to be set on a copy of a DataFrame or Series through chained assignment using an inplace method.\n",
      "The behavior will change in pandas 3.0. This inplace method will never work because the intermediate object on which we are setting values always behaves as a copy.\n",
      "\n",
      "For example, when doing 'df[col].method(value, inplace=True)', try using 'df.method({col: value}, inplace=True)' or df[col] = df[col].method(value) instead, to perform the operation inplace on the original object.\n",
      "\n",
      "\n",
      "  tt['fare'].fillna(tt['fare'].median(), inplace = True)\n"
     ]
    }
   ],
   "source": [
    "#결측치 처리\n",
    "tt['age'].fillna(tt['age'].median(), inplace = True)\n",
    "tt['embark_town'].fillna(tt['embark_town'].mode()[0], inplace = True)\n",
    "tt['fare'].fillna(tt['fare'].median(), inplace = True)"
   ]
  },
  {
   "cell_type": "code",
   "execution_count": 11,
   "id": "dac514b6",
   "metadata": {},
   "outputs": [],
   "source": [
    "#사용할 피처 정리\n",
    "X = tt[['pclass', 'sex', 'age', 'fare', 'embark_town']]\n",
    "y = tt['survived']"
   ]
  },
  {
   "cell_type": "markdown",
   "id": "ed41fecf",
   "metadata": {},
   "source": [
    "#### qcut란 무엇인가?\n",
    "#### 정의 : 연속형(숫자형) 데이터를 등분위수(quantiles) 기반으로 범주형(bin) 데이터로 변환하는 데 사용된다. 이를 통해 데이터의 분포에 따라 균등하게 나누어진 구간으로 데이터를 분류할 수 있다.\n",
    "\n",
    "#### 주요개념\n",
    "- 등분위수(Quantiles) : 데이터를 동일한 크기의 그룹으로 나누는 지표이다. 예를들어 4개의 그룹으로 나누는 경우 각 그룹은 전체 데이터의 25%씩을 포함한다.(1사분위수, 2사분위수, 3사분위수).\n",
    "- 빈(Bin) : 테이터를 특정 구간으로 나눈 범주를 의미한다. 예를들어, 연령대를 0-20, 21-40, 41-60, 61-80으로 나누는 것과 같다.\n",
    "\n",
    "#### qcut의 특징\n",
    "- 1. 동일한 데이터 포인트의 수 : qcut는 지정한 개수의 빈에 데이터를 나눌 때, 각 빈에 동일한 수의 데이터 포인트가 포함되도록 한다. 이는 데이터가 고르게 분포되지 않은 경우에도 각 빈에 균등한 데이터가 포함되도록 보장한다.\n",
    "- 2. 자동 경계 계산 : qcut는 데이터의 분포를 기반으로 자동으로 구간 경계를 계산한다. 따라서 데이터의 분포에 따라 빈의 크기가 달라질 수 있다.\n",
    "- 3. 중복 값 처리 : 동일한 값이 빈 경계에 걸릴 경우, qcut는 해당 값들을 동일한 빈에 포함시킨다. 이로 인해 일부 빈의 데이터 수가 동일하지 않을 수 있다."
   ]
  },
  {
   "cell_type": "code",
   "execution_count": 12,
   "id": "e0cb6ad0",
   "metadata": {},
   "outputs": [
    {
     "name": "stderr",
     "output_type": "stream",
     "text": [
      "/var/folders/gy/ylcsy3wj18b_80z186rb1dcw0000gn/T/ipykernel_27398/2348784324.py:3: SettingWithCopyWarning: \n",
      "A value is trying to be set on a copy of a slice from a DataFrame.\n",
      "Try using .loc[row_indexer,col_indexer] = value instead\n",
      "\n",
      "See the caveats in the documentation: https://pandas.pydata.org/pandas-docs/stable/user_guide/indexing.html#returning-a-view-versus-a-copy\n",
      "  X.loc[:, 'age_binned'] = pd.qcut(X['age'], q=4, labels = False)\n",
      "/var/folders/gy/ylcsy3wj18b_80z186rb1dcw0000gn/T/ipykernel_27398/2348784324.py:4: SettingWithCopyWarning: \n",
      "A value is trying to be set on a copy of a slice from a DataFrame.\n",
      "Try using .loc[row_indexer,col_indexer] = value instead\n",
      "\n",
      "See the caveats in the documentation: https://pandas.pydata.org/pandas-docs/stable/user_guide/indexing.html#returning-a-view-versus-a-copy\n",
      "  X.loc[:, 'fare_binned'] = pd.qcut(X['fare'], q=4, labels = False)\n"
     ]
    }
   ],
   "source": [
    "#연속형 변수를 범주형\n",
    "#qcut 분위수로\n",
    "X.loc[:, 'age_binned'] = pd.qcut(X['age'], q=4, labels = False)\n",
    "X.loc[:, 'fare_binned'] = pd.qcut(X['fare'], q=4, labels = False)"
   ]
  },
  {
   "cell_type": "code",
   "execution_count": 13,
   "id": "7d3e76e4",
   "metadata": {},
   "outputs": [],
   "source": [
    "#One-Hot-Encoder를 잡아서 진행\n",
    "X = X.drop(['age', 'fare'], axis = 1)\n",
    "#One-Hot-Encoder : 범주형 데이터 인코딩 도구, 범주형 피처를 원핫 인코딩 방식으로 변환하여,\n",
    "#머신러닝 모델이 이를 수치 데이터로 이해할 수 있도록 한다.\n",
    "#파라미터 설정.\n",
    "#sparse_output = False -> 밀집 배열 형태로 결과를 반환.\n",
    "#drop='first' -> 각 범주형 피처의 첫 번째 카테고리를 제거한다.\n",
    "onehot_encoder = OneHotEncoder(sparse_output = False, drop='first')"
   ]
  },
  {
   "cell_type": "code",
   "execution_count": 14,
   "id": "addc7333",
   "metadata": {},
   "outputs": [],
   "source": [
    "X_encoded = onehot_encoder.fit_transform(X)"
   ]
  },
  {
   "cell_type": "code",
   "execution_count": 15,
   "id": "be3bc812",
   "metadata": {},
   "outputs": [
    {
     "data": {
      "text/plain": [
       "array([[0., 1., 1., ..., 0., 0., 0.],\n",
       "       [0., 0., 0., ..., 0., 0., 1.],\n",
       "       [0., 1., 0., ..., 1., 0., 0.],\n",
       "       ...,\n",
       "       [0., 1., 0., ..., 0., 1., 0.],\n",
       "       [0., 0., 1., ..., 0., 1., 0.],\n",
       "       [0., 1., 1., ..., 0., 0., 0.]])"
      ]
     },
     "execution_count": 15,
     "metadata": {},
     "output_type": "execute_result"
    }
   ],
   "source": [
    "X_encoded"
   ]
  },
  {
   "cell_type": "code",
   "execution_count": 16,
   "id": "557f521a",
   "metadata": {},
   "outputs": [],
   "source": [
    "##카이제곱 검정 수행\n",
    "chi_selector = SelectKBest(chi2, k='all')"
   ]
  },
  {
   "cell_type": "code",
   "execution_count": 17,
   "id": "cacbe744",
   "metadata": {},
   "outputs": [],
   "source": [
    "#feature_selection으로 학습\n",
    "X_selected_all = chi_selector.fit_transform(X_encoded, y)"
   ]
  },
  {
   "cell_type": "code",
   "execution_count": 18,
   "id": "7388cf6e",
   "metadata": {},
   "outputs": [],
   "source": [
    "chi_scores = pd.DataFrame({\n",
    "    'Feature' : onehot_encoder.get_feature_names_out(X.columns),\n",
    "    'Score' : chi_selector.scores_\n",
    "}).sort_values(by='Score', ascending=True)"
   ]
  },
  {
   "cell_type": "code",
   "execution_count": 19,
   "id": "7e5e7e85",
   "metadata": {},
   "outputs": [
    {
     "data": {
      "text/html": [
       "<div>\n",
       "<style scoped>\n",
       "    .dataframe tbody tr th:only-of-type {\n",
       "        vertical-align: middle;\n",
       "    }\n",
       "\n",
       "    .dataframe tbody tr th {\n",
       "        vertical-align: top;\n",
       "    }\n",
       "\n",
       "    .dataframe thead th {\n",
       "        text-align: right;\n",
       "    }\n",
       "</style>\n",
       "<table border=\"1\" class=\"dataframe\">\n",
       "  <thead>\n",
       "    <tr style=\"text-align: right;\">\n",
       "      <th></th>\n",
       "      <th>Feature</th>\n",
       "      <th>Score</th>\n",
       "    </tr>\n",
       "  </thead>\n",
       "  <tbody>\n",
       "    <tr>\n",
       "      <th>7</th>\n",
       "      <td>age_binned_3</td>\n",
       "      <td>0.001672</td>\n",
       "    </tr>\n",
       "    <tr>\n",
       "      <th>3</th>\n",
       "      <td>embark_town_Queenstown</td>\n",
       "      <td>0.010847</td>\n",
       "    </tr>\n",
       "    <tr>\n",
       "      <th>6</th>\n",
       "      <td>age_binned_2</td>\n",
       "      <td>1.615444</td>\n",
       "    </tr>\n",
       "    <tr>\n",
       "      <th>5</th>\n",
       "      <td>age_binned_1</td>\n",
       "      <td>3.612659</td>\n",
       "    </tr>\n",
       "    <tr>\n",
       "      <th>9</th>\n",
       "      <td>fare_binned_2</td>\n",
       "      <td>4.747353</td>\n",
       "    </tr>\n",
       "    <tr>\n",
       "      <th>4</th>\n",
       "      <td>embark_town_Southampton</td>\n",
       "      <td>5.489205</td>\n",
       "    </tr>\n",
       "    <tr>\n",
       "      <th>8</th>\n",
       "      <td>fare_binned_1</td>\n",
       "      <td>6.102089</td>\n",
       "    </tr>\n",
       "    <tr>\n",
       "      <th>0</th>\n",
       "      <td>pclass_2</td>\n",
       "      <td>6.160767</td>\n",
       "    </tr>\n",
       "    <tr>\n",
       "      <th>10</th>\n",
       "      <td>fare_binned_3</td>\n",
       "      <td>36.518405</td>\n",
       "    </tr>\n",
       "    <tr>\n",
       "      <th>1</th>\n",
       "      <td>pclass_3</td>\n",
       "      <td>41.553071</td>\n",
       "    </tr>\n",
       "    <tr>\n",
       "      <th>2</th>\n",
       "      <td>sex_male</td>\n",
       "      <td>92.702447</td>\n",
       "    </tr>\n",
       "  </tbody>\n",
       "</table>\n",
       "</div>"
      ],
      "text/plain": [
       "                    Feature      Score\n",
       "7              age_binned_3   0.001672\n",
       "3    embark_town_Queenstown   0.010847\n",
       "6              age_binned_2   1.615444\n",
       "5              age_binned_1   3.612659\n",
       "9             fare_binned_2   4.747353\n",
       "4   embark_town_Southampton   5.489205\n",
       "8             fare_binned_1   6.102089\n",
       "0                  pclass_2   6.160767\n",
       "10            fare_binned_3  36.518405\n",
       "1                  pclass_3  41.553071\n",
       "2                  sex_male  92.702447"
      ]
     },
     "execution_count": 19,
     "metadata": {},
     "output_type": "execute_result"
    }
   ],
   "source": [
    "chi_scores"
   ]
  },
  {
   "cell_type": "code",
   "execution_count": 20,
   "id": "ffc1f348",
   "metadata": {},
   "outputs": [],
   "source": [
    "chi_selector = SelectKBest(chi2, k = 2)\n",
    "X_selected = chi_selector.fit_transform(X_encoded, y)"
   ]
  },
  {
   "cell_type": "code",
   "execution_count": 25,
   "id": "45250b58",
   "metadata": {},
   "outputs": [
    {
     "name": "stdout",
     "output_type": "stream",
     "text": [
      "[1 2]\n",
      "['pclass_3' 'sex_male']\n",
      "[41.55307089 92.70244698]\n"
     ]
    }
   ],
   "source": [
    "#선택된 피처들 점수 산출\n",
    "selected_indices = chi_selector.get_support(indices=True)\n",
    "selected_features = onehot_encoder.get_feature_names_out(X.columns)[selected_indices]\n",
    "selected_scores = chi_selector.scores_[selected_indices]\n",
    "print(selected_indices)\n",
    "print(selected_features)\n",
    "print(selected_scores)"
   ]
  },
  {
   "cell_type": "code",
   "execution_count": 22,
   "id": "c7f1af3c",
   "metadata": {},
   "outputs": [
    {
     "data": {
      "text/plain": [
       "<BarContainer object of 11 artists>"
      ]
     },
     "execution_count": 22,
     "metadata": {},
     "output_type": "execute_result"
    },
    {
     "data": {
      "image/png": "[encoded data removed]",
      "text/plain": [
       "<Figure size 800x400 with 1 Axes>"
      ]
     },
     "metadata": {},
     "output_type": "display_data"
    }
   ],
   "source": [
    "#간단한 시각화\n",
    "plt.figure(figsize=(8,4))\n",
    "plt.barh(chi_scores['Feature'], chi_scores['Score'])"
   ]
  },
  {
   "cell_type": "code",
   "execution_count": 23,
   "id": "1d7d7da5",
   "metadata": {},
   "outputs": [
    {
     "data": {
      "text/plain": [
       "<BarContainer object of 2 artists>"
      ]
     },
     "execution_count": 23,
     "metadata": {},
     "output_type": "execute_result"
    },
    {
     "data": {
      "image/png": "[encoded data removed]",
      "text/plain": [
       "<Figure size 800x400 with 1 Axes>"
      ]
     },
     "metadata": {},
     "output_type": "display_data"
    }
   ],
   "source": [
    "#간단한 시각화\n",
    "plt.figure(figsize=(8,4))\n",
    "plt.barh(selected_features, selected_scores)"
   ]
  },
  {
   "cell_type": "code",
   "execution_count": null,
   "id": "7b82a532",
   "metadata": {},
   "outputs": [],
   "source": []
  }
 ],
 "metadata": {
  "kernelspec": {
   "display_name": "Python 3 (ipykernel)",
   "language": "python",
   "name": "python3"
  },
  "language_info": {
   "codemirror_mode": {
    "name": "ipython",
    "version": 3
   },
   "file_extension": ".py",
   "mimetype": "text/x-python",
   "name": "python",
   "nbconvert_exporter": "python",
   "pygments_lexer": "ipython3",
   "version": "3.11.5"
  }
 },
 "nbformat": 4,
 "nbformat_minor": 5
}
