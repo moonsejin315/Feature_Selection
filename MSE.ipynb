{
 "cells": [
  {
   "cell_type": "code",
   "execution_count": 1,
   "id": "141aaabb",
   "metadata": {},
   "outputs": [],
   "source": [
    "import numpy as np\n",
    "import pandas as pd\n",
    "from sklearn.model_selection import train_test_split\n",
    "from sklearn.linear_model import LinearRegression\n",
    "from sklearn.metrics import mean_squared_error\n",
    "import matplotlib.pyplot as plt"
   ]
  },
  {
   "cell_type": "code",
   "execution_count": 2,
   "id": "62d5ca2c",
   "metadata": {},
   "outputs": [],
   "source": [
    "#X, y 독립변수와 종속변수와의 관계\n",
    "np.random.seed(123)\n",
    "n_samples = 1000"
   ]
  },
  {
   "cell_type": "code",
   "execution_count": 3,
   "id": "2c3e0ba9",
   "metadata": {},
   "outputs": [],
   "source": [
    "#특성 피처들 생성\n",
    "X1 = np.random.rand(n_samples) * 100 #X1 y와 상관관계가 높도록 설정\n",
    "X2 = np.random.rand(n_samples) * 100 #X2도 y와 상관관계 높다\n",
    "X3 = np.random.rand(n_samples) * 100 #X3 y와 상관관계 약함\n",
    "X4 = np.random.rand(n_samples) * 100 #X4 y와 거의 상관관계 없음\n",
    "X_noise = np.random.rand(n_samples) * 100 #노이즈\n",
    "\n",
    "#X1, X2 강하게 의존하는 형태, 나머지는 거의 영향이 없음\n",
    "y = 3*X1 + 2*X2 + np.random.randn(n_samples) * 10"
   ]
  },
  {
   "cell_type": "code",
   "execution_count": 4,
   "id": "ba7582d1",
   "metadata": {},
   "outputs": [],
   "source": [
    "df = pd.DataFrame({\n",
    "    'X1':X1,\n",
    "    'X2':X2,\n",
    "    'X3':X3,\n",
    "    'X4':X4,\n",
    "    'X_noise':X_noise,\n",
    "    'y':y\n",
    "})"
   ]
  },
  {
   "cell_type": "code",
   "execution_count": 5,
   "id": "3b1ead25",
   "metadata": {},
   "outputs": [
    {
     "data": {
      "text/html": [
       "<div>\n",
       "<style scoped>\n",
       "    .dataframe tbody tr th:only-of-type {\n",
       "        vertical-align: middle;\n",
       "    }\n",
       "\n",
       "    .dataframe tbody tr th {\n",
       "        vertical-align: top;\n",
       "    }\n",
       "\n",
       "    .dataframe thead th {\n",
       "        text-align: right;\n",
       "    }\n",
       "</style>\n",
       "<table border=\"1\" class=\"dataframe\">\n",
       "  <thead>\n",
       "    <tr style=\"text-align: right;\">\n",
       "      <th></th>\n",
       "      <th>X1</th>\n",
       "      <th>X2</th>\n",
       "      <th>X3</th>\n",
       "      <th>X4</th>\n",
       "      <th>X_noise</th>\n",
       "      <th>y</th>\n",
       "    </tr>\n",
       "  </thead>\n",
       "  <tbody>\n",
       "    <tr>\n",
       "      <th>X1</th>\n",
       "      <td>1.000000</td>\n",
       "      <td>-0.047136</td>\n",
       "      <td>0.039437</td>\n",
       "      <td>-0.020240</td>\n",
       "      <td>-0.022534</td>\n",
       "      <td>0.805631</td>\n",
       "    </tr>\n",
       "    <tr>\n",
       "      <th>X2</th>\n",
       "      <td>-0.047136</td>\n",
       "      <td>1.000000</td>\n",
       "      <td>-0.069586</td>\n",
       "      <td>0.031232</td>\n",
       "      <td>0.016793</td>\n",
       "      <td>0.545822</td>\n",
       "    </tr>\n",
       "    <tr>\n",
       "      <th>X3</th>\n",
       "      <td>0.039437</td>\n",
       "      <td>-0.069586</td>\n",
       "      <td>1.000000</td>\n",
       "      <td>0.025532</td>\n",
       "      <td>-0.046728</td>\n",
       "      <td>-0.003880</td>\n",
       "    </tr>\n",
       "    <tr>\n",
       "      <th>X4</th>\n",
       "      <td>-0.020240</td>\n",
       "      <td>0.031232</td>\n",
       "      <td>0.025532</td>\n",
       "      <td>1.000000</td>\n",
       "      <td>-0.005264</td>\n",
       "      <td>0.001766</td>\n",
       "    </tr>\n",
       "    <tr>\n",
       "      <th>X_noise</th>\n",
       "      <td>-0.022534</td>\n",
       "      <td>0.016793</td>\n",
       "      <td>-0.046728</td>\n",
       "      <td>-0.005264</td>\n",
       "      <td>1.000000</td>\n",
       "      <td>-0.006337</td>\n",
       "    </tr>\n",
       "    <tr>\n",
       "      <th>y</th>\n",
       "      <td>0.805631</td>\n",
       "      <td>0.545822</td>\n",
       "      <td>-0.003880</td>\n",
       "      <td>0.001766</td>\n",
       "      <td>-0.006337</td>\n",
       "      <td>1.000000</td>\n",
       "    </tr>\n",
       "  </tbody>\n",
       "</table>\n",
       "</div>"
      ],
      "text/plain": [
       "               X1        X2        X3        X4   X_noise         y\n",
       "X1       1.000000 -0.047136  0.039437 -0.020240 -0.022534  0.805631\n",
       "X2      -0.047136  1.000000 -0.069586  0.031232  0.016793  0.545822\n",
       "X3       0.039437 -0.069586  1.000000  0.025532 -0.046728 -0.003880\n",
       "X4      -0.020240  0.031232  0.025532  1.000000 -0.005264  0.001766\n",
       "X_noise -0.022534  0.016793 -0.046728 -0.005264  1.000000 -0.006337\n",
       "y        0.805631  0.545822 -0.003880  0.001766 -0.006337  1.000000"
      ]
     },
     "execution_count": 5,
     "metadata": {},
     "output_type": "execute_result"
    }
   ],
   "source": [
    "#상관계수를 확인하기\n",
    "df.corr()"
   ]
  },
  {
   "cell_type": "code",
   "execution_count": 6,
   "id": "0ea9dfda",
   "metadata": {},
   "outputs": [],
   "source": [
    "#corr_matrix\n",
    "#df의 상관관계 중에서 'y'를 선택\n",
    "#선택 이후에 자기 자신의 값인 'y'는 drop해서 보여주게 한다.\n",
    "corr_matrix = df.corr()['y'].drop('y')"
   ]
  },
  {
   "cell_type": "code",
   "execution_count": 7,
   "id": "9f4c80d7",
   "metadata": {},
   "outputs": [
    {
     "data": {
      "text/plain": [
       "X1         0.805631\n",
       "X2         0.545822\n",
       "X3        -0.003880\n",
       "X4         0.001766\n",
       "X_noise   -0.006337\n",
       "Name: y, dtype: float64"
      ]
     },
     "execution_count": 7,
     "metadata": {},
     "output_type": "execute_result"
    }
   ],
   "source": [
    "corr_matrix"
   ]
  },
  {
   "cell_type": "code",
   "execution_count": 8,
   "id": "6e86ed93",
   "metadata": {},
   "outputs": [
    {
     "data": {
      "text/plain": [
       "Index(['X1', 'X2'], dtype='object')"
      ]
     },
     "execution_count": 8,
     "metadata": {},
     "output_type": "execute_result"
    }
   ],
   "source": [
    "#0.5 특성만 뽑아보자 -> 상관관계가 높은 것들만 골라내는 것\n",
    "threshold = 0.5\n",
    "selected_features = corr_matrix[abs(corr_matrix)>threshold].index\n",
    "\n",
    "selected_features"
   ]
  },
  {
   "cell_type": "code",
   "execution_count": 9,
   "id": "29bc9110",
   "metadata": {},
   "outputs": [
    {
     "name": "stdout",
     "output_type": "stream",
     "text": [
      "mse_selected :  110.75865743689343\n"
     ]
    }
   ],
   "source": [
    "#LinearRegression\n",
    "\n",
    "#데이터 분할_선택된 피처로\n",
    "X_selected = df[selected_features]\n",
    "X_train, X_test, y_train, y_test = train_test_split(X_selected, df['y'], test_size = 0.3, random_state=42)\n",
    "\n",
    "#모델학습\n",
    "model = LinearRegression()\n",
    "model.fit(X_train, y_train)\n",
    "\n",
    "#예측 MSE\n",
    "y_pred = model.predict(X_test)\n",
    "mse_selected = mean_squared_error(y_test, y_pred)\n",
    "print('mse_selected : ', mse_selected)"
   ]
  },
  {
   "cell_type": "code",
   "execution_count": 10,
   "id": "ec2df2e8",
   "metadata": {},
   "outputs": [
    {
     "name": "stdout",
     "output_type": "stream",
     "text": [
      "mse_full :  111.05108455833616\n"
     ]
    }
   ],
   "source": [
    "#전체 데이터랑 비교\n",
    "\n",
    "#LinearRegression\n",
    "\n",
    "#데이터 분할_선택된 피처로\n",
    "X_full = df.drop(columns = ['y'])\n",
    "X_train_full, X_test_full, y_train_full, y_test_full = train_test_split(X_full, df['y'], test_size = 0.3, random_state=42)\n",
    "\n",
    "#모델학습\n",
    "model_full = LinearRegression()\n",
    "model_full.fit(X_train_full, y_train_full)\n",
    "\n",
    "#예측 MSE\n",
    "y_pred_full = model_full.predict(X_test_full)\n",
    "mse_full = mean_squared_error(y_test_full, y_pred_full)\n",
    "print('mse_full : ', mse_full)"
   ]
  },
  {
   "cell_type": "code",
   "execution_count": 11,
   "id": "e186b6b6",
   "metadata": {},
   "outputs": [
    {
     "data": {
      "text/plain": [
       "-0.29242712144272787"
      ]
     },
     "execution_count": 11,
     "metadata": {},
     "output_type": "execute_result"
    }
   ],
   "source": [
    "110.75865743689343 - 111.05108455833616"
   ]
  },
  {
   "cell_type": "code",
   "execution_count": 12,
   "id": "676f3474",
   "metadata": {},
   "outputs": [],
   "source": [
    "#특성 피처들 생성\n",
    "X1 = np.random.rand(n_samples) * 100 #X1 y와 상관관계가 높도록 설정\n",
    "X2 = np.random.rand(n_samples) * 100 #X2도 y와 상관관계 높다\n",
    "X3 = np.random.rand(n_samples) * 100 #X3 y와 상관관계 약함\n",
    "X4 = np.random.rand(n_samples) * 100 #X4 y와 거의 상관관계 없음\n",
    "X_noise = np.random.rand(n_samples) * 100 #노이즈\n",
    "\n",
    "#X1, X2 강하게 의존하는 형태, 나머지는 거의 영향이 없음\n",
    "y = 3*X1 + 2*X2 + np.random.randn(n_samples) * 10"
   ]
  },
  {
   "cell_type": "code",
   "execution_count": 13,
   "id": "dbd81390",
   "metadata": {},
   "outputs": [],
   "source": [
    "df=pd.DataFrame({\n",
    "    'X1':X1,\n",
    "    'X2':X2,\n",
    "    'X3':X3,\n",
    "    'X4':X4,\n",
    "    'X_noise':X_noise,\n",
    "    'y':y\n",
    "})"
   ]
  },
  {
   "cell_type": "code",
   "execution_count": 14,
   "id": "08f532c5",
   "metadata": {},
   "outputs": [],
   "source": [
    "import seaborn as sns"
   ]
  },
  {
   "cell_type": "code",
   "execution_count": 15,
   "id": "6d9dffae",
   "metadata": {},
   "outputs": [
    {
     "name": "stdout",
     "output_type": "stream",
     "text": [
      "               X1        X2        X3        X4   X_noise\n",
      "X1       1.000000 -0.038494 -0.012903 -0.085100  0.051621\n",
      "X2      -0.038494  1.000000  0.012125 -0.008515  0.019303\n",
      "X3      -0.012903  0.012125  1.000000 -0.010658 -0.047799\n",
      "X4      -0.085100 -0.008515 -0.010658  1.000000 -0.042149\n",
      "X_noise  0.051621  0.019303 -0.047799 -0.042149  1.000000\n"
     ]
    }
   ],
   "source": [
    "#상관관계를 확인\n",
    "\n",
    "#corr_matrix\n",
    "corr_matrix = df.drop(columns = ['y']).corr()\n",
    "print(corr_matrix)"
   ]
  },
  {
   "cell_type": "code",
   "execution_count": 16,
   "id": "8de4e9ba",
   "metadata": {},
   "outputs": [
    {
     "data": {
      "text/plain": [
       "<Axes: >"
      ]
     },
     "execution_count": 16,
     "metadata": {},
     "output_type": "execute_result"
    },
    {
     "data": {
      "image/png": "[encoded data removed]",
      "text/plain": [
       "<Figure size 1000x500 with 2 Axes>"
      ]
     },
     "metadata": {},
     "output_type": "display_data"
    }
   ],
   "source": [
    "#상관관계 시각화\n",
    "plt.figure(figsize=(10,5))\n",
    "sns.heatmap(corr_matrix, annot=True)"
   ]
  },
  {
   "cell_type": "code",
   "execution_count": 17,
   "id": "2de4abf4",
   "metadata": {},
   "outputs": [
    {
     "data": {
      "text/html": [
       "<div>\n",
       "<style scoped>\n",
       "    .dataframe tbody tr th:only-of-type {\n",
       "        vertical-align: middle;\n",
       "    }\n",
       "\n",
       "    .dataframe tbody tr th {\n",
       "        vertical-align: top;\n",
       "    }\n",
       "\n",
       "    .dataframe thead th {\n",
       "        text-align: right;\n",
       "    }\n",
       "</style>\n",
       "<table border=\"1\" class=\"dataframe\">\n",
       "  <thead>\n",
       "    <tr style=\"text-align: right;\">\n",
       "      <th></th>\n",
       "      <th>X1</th>\n",
       "      <th>X2</th>\n",
       "      <th>X3</th>\n",
       "      <th>X4</th>\n",
       "      <th>X_noise</th>\n",
       "    </tr>\n",
       "  </thead>\n",
       "  <tbody>\n",
       "    <tr>\n",
       "      <th>X1</th>\n",
       "      <td>1.000000</td>\n",
       "      <td>-0.038494</td>\n",
       "      <td>-0.012903</td>\n",
       "      <td>-0.085100</td>\n",
       "      <td>0.051621</td>\n",
       "    </tr>\n",
       "    <tr>\n",
       "      <th>X2</th>\n",
       "      <td>-0.038494</td>\n",
       "      <td>1.000000</td>\n",
       "      <td>0.012125</td>\n",
       "      <td>-0.008515</td>\n",
       "      <td>0.019303</td>\n",
       "    </tr>\n",
       "    <tr>\n",
       "      <th>X3</th>\n",
       "      <td>-0.012903</td>\n",
       "      <td>0.012125</td>\n",
       "      <td>1.000000</td>\n",
       "      <td>-0.010658</td>\n",
       "      <td>-0.047799</td>\n",
       "    </tr>\n",
       "    <tr>\n",
       "      <th>X4</th>\n",
       "      <td>-0.085100</td>\n",
       "      <td>-0.008515</td>\n",
       "      <td>-0.010658</td>\n",
       "      <td>1.000000</td>\n",
       "      <td>-0.042149</td>\n",
       "    </tr>\n",
       "    <tr>\n",
       "      <th>X_noise</th>\n",
       "      <td>0.051621</td>\n",
       "      <td>0.019303</td>\n",
       "      <td>-0.047799</td>\n",
       "      <td>-0.042149</td>\n",
       "      <td>1.000000</td>\n",
       "    </tr>\n",
       "  </tbody>\n",
       "</table>\n",
       "</div>"
      ],
      "text/plain": [
       "               X1        X2        X3        X4   X_noise\n",
       "X1       1.000000 -0.038494 -0.012903 -0.085100  0.051621\n",
       "X2      -0.038494  1.000000  0.012125 -0.008515  0.019303\n",
       "X3      -0.012903  0.012125  1.000000 -0.010658 -0.047799\n",
       "X4      -0.085100 -0.008515 -0.010658  1.000000 -0.042149\n",
       "X_noise  0.051621  0.019303 -0.047799 -0.042149  1.000000"
      ]
     },
     "execution_count": 17,
     "metadata": {},
     "output_type": "execute_result"
    }
   ],
   "source": [
    "corr_matrix"
   ]
  },
  {
   "cell_type": "code",
   "execution_count": 18,
   "id": "3288acbb",
   "metadata": {},
   "outputs": [
    {
     "name": "stdout",
     "output_type": "stream",
     "text": [
      "set()\n"
     ]
    }
   ],
   "source": [
    "#상관계수가 threshold 0.8 이상인 경우는 제거를 한다.\n",
    "#X1, X2 상관관계가 높다 -> 왜 제거를 해야하나?\n",
    "#X1, X2 상관관계가 높다 -> 같이 움직인다. X1이 증가하면 X2도 증가한다는 뜻. 같이 움직이므로 선형회귀에서 오차 계산 등이 오차 값이 계산될 때 더 큰 영향을 준다.\n",
    "\n",
    "threshold = 0.8\n",
    "to_drop = set() #to_drop은 제거할 특성 변수의 이름을 저장하기 위한 빈 집합(set)이다.\n",
    "\n",
    "#상관계수가 높은 피처만 출력\n",
    "for i in range(len(corr_matrix.columns)):\n",
    "    for j in range(i):\n",
    "        if abs(corr_matrix.iloc[i,j])>threshold:\n",
    "            to_drop.add(corr_matrix.columns[i])\n",
    "print(to_drop)\n",
    "\n",
    "#원하는 피처만 제거함\n",
    "X_reduced = df.drop(columns = list(to_drop) + ['y'])\n",
    "\n",
    "X_train, X_test, y_train, y_test = train_test_split(X_reduced, df['y'], test_size = 0.2, random_state=42)"
   ]
  },
  {
   "cell_type": "code",
   "execution_count": 19,
   "id": "2f9da440",
   "metadata": {},
   "outputs": [
    {
     "name": "stdout",
     "output_type": "stream",
     "text": [
      "mse_selected :  94.29153309417038\n"
     ]
    }
   ],
   "source": [
    "#상관계수가 높은 피처를 제거했을 때\n",
    "#모델학습\n",
    "model = LinearRegression()\n",
    "model.fit(X_train, y_train)\n",
    "\n",
    "#예측 MSE\n",
    "y_pred = model.predict(X_test)\n",
    "mse_selected = mean_squared_error(y_test, y_pred)\n",
    "print('mse_selected : ', mse_selected)"
   ]
  },
  {
   "cell_type": "code",
   "execution_count": 20,
   "id": "804fc0bb",
   "metadata": {},
   "outputs": [
    {
     "name": "stdout",
     "output_type": "stream",
     "text": [
      "mse_full :  100.70603641172119\n"
     ]
    }
   ],
   "source": [
    "#전체 피처가 다 들어간 경우\n",
    "#데이터 분할_선택된 피처로\n",
    "X_full = df.drop(columns = ['y'])\n",
    "X_train_full, X_test_full, y_train_full, y_test_full = train_test_split(X_full, df['y'], test_size = 0.3, random_state = 42)\n",
    "\n",
    "#모델학습\n",
    "model_full = LinearRegression()\n",
    "model_full.fit(X_train_full, y_train_full)\n",
    "\n",
    "#예측 MSE\n",
    "y_pred_full = model_full.predict(X_test_full)\n",
    "mse_full = mean_squared_error(y_test_full, y_pred_full)\n",
    "print('mse_full : ', mse_full)"
   ]
  }
 ],
 "metadata": {
  "kernelspec": {
   "display_name": "Python 3 (ipykernel)",
   "language": "python",
   "name": "python3"
  },
  "language_info": {
   "codemirror_mode": {
    "name": "ipython",
    "version": 3
   },
   "file_extension": ".py",
   "mimetype": "text/x-python",
   "name": "python",
   "nbconvert_exporter": "python",
   "pygments_lexer": "ipython3",
   "version": "3.11.5"
  }
 },
 "nbformat": 4,
 "nbformat_minor": 5
}
